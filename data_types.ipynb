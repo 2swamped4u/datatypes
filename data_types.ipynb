{
 "cells": [
  {
   "cell_type": "markdown",
   "id": "765b680b-da74-4224-bd66-def19a3b0026",
   "metadata": {},
   "source": [
    "## Integer Numbers (int)"
   ]
  },
  {
   "cell_type": "markdown",
   "id": "53f42617-cc36-4602-a823-45f481326d48",
   "metadata": {},
   "source": [
    "Integer numbers abbreviated ```int``` are essentially whole numbers they can be input using the numbers ```0```,```1```,```2```,```3```,```4```,```5```,```6```,```7```,```8``` and ```9```."
   ]
  },
  {
   "cell_type": "code",
   "execution_count": 1,
   "id": "6a552d55-64d2-4143-b390-9e7538049a65",
   "metadata": {},
   "outputs": [
    {
     "data": {
      "text/plain": [
       "1"
      ]
     },
     "execution_count": 1,
     "metadata": {},
     "output_type": "execute_result"
    }
   ],
   "source": [
    "1"
   ]
  },
  {
   "cell_type": "code",
   "execution_count": 2,
   "id": "549071f1-cdb7-449e-96e9-8f65f8786ea7",
   "metadata": {},
   "outputs": [
    {
     "data": {
      "text/plain": [
       "10"
      ]
     },
     "execution_count": 2,
     "metadata": {},
     "output_type": "execute_result"
    }
   ],
   "source": [
    "10"
   ]
  },
  {
   "cell_type": "markdown",
   "id": "d85f47e7-d32b-476c-b940-579a8eda3f2c",
   "metadata": {},
   "source": [
    "## Floating Point Numbers (float)"
   ]
  },
  {
   "cell_type": "markdown",
   "id": "f497827a-cb25-48ab-82a6-34c49caff6ba",
   "metadata": {},
   "source": [
    "Floating point numbers abbreviated ```float``` are numbers with a decimal component. The full stop is used ```.``` to denote the decimal point."
   ]
  },
  {
   "cell_type": "code",
   "execution_count": 3,
   "id": "abd25b6b-6434-48d7-84ee-831a52e68ebc",
   "metadata": {},
   "outputs": [
    {
     "data": {
      "text/plain": [
       "1.1"
      ]
     },
     "execution_count": 3,
     "metadata": {},
     "output_type": "execute_result"
    }
   ],
   "source": [
    "1.1"
   ]
  },
  {
   "cell_type": "code",
   "execution_count": 4,
   "id": "fc31703e-5f4f-4013-ad93-0a0e55c51122",
   "metadata": {},
   "outputs": [
    {
     "data": {
      "text/plain": [
       "10.1"
      ]
     },
     "execution_count": 4,
     "metadata": {},
     "output_type": "execute_result"
    }
   ],
   "source": [
    "10.10"
   ]
  },
  {
   "cell_type": "markdown",
   "id": "303ae78d-e933-406f-8ff3-ddfa77a6c8d2",
   "metadata": {},
   "source": [
    "## Boolean Values (bool)"
   ]
  },
  {
   "cell_type": "markdown",
   "id": "76dec37a-34d7-41a1-a360-cc0577c66a22",
   "metadata": {},
   "source": [
    "Boolean values abbreviated ```bool``` are either ```True``` or ```False```. This numerically equates to ```1``` or ```0```. Note the capitalization and color-coding."
   ]
  },
  {
   "cell_type": "code",
   "execution_count": 5,
   "id": "c5f66063-0174-45c3-9a74-daa9fd97568b",
   "metadata": {},
   "outputs": [
    {
     "data": {
      "text/plain": [
       "True"
      ]
     },
     "execution_count": 5,
     "metadata": {},
     "output_type": "execute_result"
    }
   ],
   "source": [
    "True"
   ]
  },
  {
   "cell_type": "code",
   "execution_count": 6,
   "id": "c51c0bba-8961-4e7f-903f-5004882f3936",
   "metadata": {},
   "outputs": [
    {
     "data": {
      "text/plain": [
       "False"
      ]
     },
     "execution_count": 6,
     "metadata": {},
     "output_type": "execute_result"
    }
   ],
   "source": [
    "False"
   ]
  },
  {
   "cell_type": "code",
   "execution_count": 7,
   "id": "b947ed99-7b1d-4c93-9495-2f94cd344bbe",
   "metadata": {},
   "outputs": [
    {
     "ename": "NameError",
     "evalue": "name 'true' is not defined",
     "output_type": "error",
     "traceback": [
      "\u001b[1;31m---------------------------------------------------------------------------\u001b[0m",
      "\u001b[1;31mNameError\u001b[0m                                 Traceback (most recent call last)",
      "\u001b[1;32m<ipython-input-7-724ba28f4a9a>\u001b[0m in \u001b[0;36m<module>\u001b[1;34m\u001b[0m\n\u001b[1;32m----> 1\u001b[1;33m \u001b[0mtrue\u001b[0m\u001b[1;33m\u001b[0m\u001b[1;33m\u001b[0m\u001b[0m\n\u001b[0m",
      "\u001b[1;31mNameError\u001b[0m: name 'true' is not defined"
     ]
    }
   ],
   "source": [
    "true"
   ]
  },
  {
   "cell_type": "code",
   "execution_count": 8,
   "id": "3809b8e7-7e80-48b2-96f7-0f177887ec7b",
   "metadata": {},
   "outputs": [
    {
     "ename": "NameError",
     "evalue": "name 'false' is not defined",
     "output_type": "error",
     "traceback": [
      "\u001b[1;31m---------------------------------------------------------------------------\u001b[0m",
      "\u001b[1;31mNameError\u001b[0m                                 Traceback (most recent call last)",
      "\u001b[1;32m<ipython-input-8-b73d74fcede9>\u001b[0m in \u001b[0;36m<module>\u001b[1;34m\u001b[0m\n\u001b[1;32m----> 1\u001b[1;33m \u001b[0mfalse\u001b[0m\u001b[1;33m\u001b[0m\u001b[1;33m\u001b[0m\u001b[0m\n\u001b[0m",
      "\u001b[1;31mNameError\u001b[0m: name 'false' is not defined"
     ]
    }
   ],
   "source": [
    "false"
   ]
  },
  {
   "cell_type": "markdown",
   "id": "af951ec7-376a-4559-bc4a-f39a8c2e45c3",
   "metadata": {},
   "source": [
    "## A String of Characters (str)"
   ]
  },
  {
   "cell_type": "markdown",
   "id": "e2e2c781-e47a-462c-ae49-6463f242ff1e",
   "metadata": {},
   "source": [
    "A string of characters otherwise known as a string or abbreviated as ```str```, can be used to store text variables. This can be lower ```abc,...``` and upper case ```ABC,...```, the space , underscore ```_```, comma ```,``` and full stop ```.```. The ```str``` is enclosed in quotation marks either double ```\"``` (default) or single ```'```. Note the color-coding of the ```str``` in brown."
   ]
  },
  {
   "cell_type": "code",
   "execution_count": 9,
   "id": "759d7d67-c5de-485e-a4a5-817dd270dd29",
   "metadata": {},
   "outputs": [
    {
     "data": {
      "text/plain": [
       "'hello'"
      ]
     },
     "execution_count": 9,
     "metadata": {},
     "output_type": "execute_result"
    }
   ],
   "source": [
    "\"hello\""
   ]
  },
  {
   "cell_type": "code",
   "execution_count": 10,
   "id": "b3b60c1a-54ae-43a8-b504-c653706e4c4e",
   "metadata": {},
   "outputs": [
    {
     "data": {
      "text/plain": [
       "'hello'"
      ]
     },
     "execution_count": 10,
     "metadata": {},
     "output_type": "execute_result"
    }
   ],
   "source": [
    "'hello'"
   ]
  },
  {
   "cell_type": "code",
   "execution_count": 11,
   "id": "8df6da78-b8a1-4cb5-9962-5370628441fd",
   "metadata": {},
   "outputs": [
    {
     "data": {
      "text/plain": [
       "'hello world'"
      ]
     },
     "execution_count": 11,
     "metadata": {},
     "output_type": "execute_result"
    }
   ],
   "source": [
    "\"hello world\""
   ]
  },
  {
   "cell_type": "markdown",
   "id": "539a8ee9-ec89-4b07-8d65-883f6db011dc",
   "metadata": {},
   "source": [
    "We need to use quotation marks to enclose a ```str``` however sometimes we will also want to embed quotation marks into the ```str``` itself. Let's see what happens when we attempt this."
   ]
  },
  {
   "cell_type": "code",
   "execution_count": 12,
   "id": "238325bc-93a6-4f5f-a96b-f062e6becb2d",
   "metadata": {},
   "outputs": [
    {
     "ename": "SyntaxError",
     "evalue": "invalid syntax (<ipython-input-12-2568471f90f8>, line 1)",
     "output_type": "error",
     "traceback": [
      "\u001b[1;36m  File \u001b[1;32m\"<ipython-input-12-2568471f90f8>\"\u001b[1;36m, line \u001b[1;32m1\u001b[0m\n\u001b[1;33m    \"She said \"Hello\" to him.\"\u001b[0m\n\u001b[1;37m               ^\u001b[0m\n\u001b[1;31mSyntaxError\u001b[0m\u001b[1;31m:\u001b[0m invalid syntax\n"
     ]
    }
   ],
   "source": [
    "\"She said \"Hello\" to him.\""
   ]
  },
  {
   "cell_type": "markdown",
   "id": "9ab93c9b-e8b2-4f44-9233-71999b2b6787",
   "metadata": {},
   "source": [
    "Note the color coding of the ```str``` in brown. We can see the quotations around the word Hello end the ```str``` ```She Said ``` and start another ```str``` ``` to him.```."
   ]
  },
  {
   "cell_type": "markdown",
   "id": "0314f709-e6d2-4bce-9252-1e87b6c963c8",
   "metadata": {},
   "source": [
    "When there is only one type of quotation used within the ```str```, the other quotation mark can be used to enclose the ```str```."
   ]
  },
  {
   "cell_type": "code",
   "execution_count": 13,
   "id": "53c0d7b9-21e0-45c2-bff9-3bf80e381bde",
   "metadata": {},
   "outputs": [
    {
     "data": {
      "text/plain": [
       "'She said \"Hello\" to him.'"
      ]
     },
     "execution_count": 13,
     "metadata": {},
     "output_type": "execute_result"
    }
   ],
   "source": [
    "'She said \"Hello\" to him.'"
   ]
  },
  {
   "cell_type": "code",
   "execution_count": 14,
   "id": "fe972780-fc8a-446e-9a9b-c79f520a284d",
   "metadata": {},
   "outputs": [
    {
     "data": {
      "text/plain": [
       "\"Philip's Python Notes\""
      ]
     },
     "execution_count": 14,
     "metadata": {},
     "output_type": "execute_result"
    }
   ],
   "source": [
    "\"Philip's Python Notes\""
   ]
  },
  {
   "cell_type": "markdown",
   "id": "cf46892b-e071-4d6b-9dce-0248e5434c3f",
   "metadata": {},
   "source": [
    "In some cases however we might want to create a ```str``` which uses both single ```'``` (or an apostrophe) and double ```\"``` quotation marks. Note again the color-coding."
   ]
  },
  {
   "cell_type": "code",
   "execution_count": 15,
   "id": "a40bcc1c-f52c-47b1-bc0b-b8f48867a8f0",
   "metadata": {},
   "outputs": [
    {
     "ename": "SyntaxError",
     "evalue": "invalid syntax (<ipython-input-15-6968bf7ff30c>, line 1)",
     "output_type": "error",
     "traceback": [
      "\u001b[1;36m  File \u001b[1;32m\"<ipython-input-15-6968bf7ff30c>\"\u001b[1;36m, line \u001b[1;32m1\u001b[0m\n\u001b[1;33m    'She said \"I like Philip's Python Notes\" to him.'\u001b[0m\n\u001b[1;37m                             ^\u001b[0m\n\u001b[1;31mSyntaxError\u001b[0m\u001b[1;31m:\u001b[0m invalid syntax\n"
     ]
    }
   ],
   "source": [
    "'She said \"I like Philip's Python Notes\" to him.'"
   ]
  },
  {
   "cell_type": "markdown",
   "id": "88d5f176-bb00-43d0-be94-a034849bd82c",
   "metadata": {},
   "source": [
    "The quotation mark ```\"``` is an escape character. An escape character can be inserted in Python by using the backslash ```\\``` followed by the character to be inserted. This is typically used for the following."
   ]
  },
  {
   "cell_type": "markdown",
   "id": "b70e5159-2204-4421-b4c4-6d34dece0c38",
   "metadata": {},
   "source": [
    "|Code|Name|Result|\n",
    "|:-:|:-:|:-:|\n",
    "|\\\\\\'|Single Quote|\\'|\n",
    "|\\\\\\\"|Double Quote|\\\"|\n",
    "|\\\\t|Tab|TAB|\n",
    "|\\\\v|Vertical Tab|VT|\n",
    "|\\\\r|Carriage Return|CR|\n",
    "|\\\\f|Form Feed|FF|\n",
    "|\\\\n|New Line|CR+FF|\n",
    "|\\\\b|Backspace|BS|"
   ]
  },
  {
   "cell_type": "code",
   "execution_count": 16,
   "id": "ca0e519a-8035-45e5-b5e9-21ad9671feb4",
   "metadata": {},
   "outputs": [
    {
     "data": {
      "text/plain": [
       "'She said \"I like Philip\\'s Python Notes\" to him.'"
      ]
     },
     "execution_count": 16,
     "metadata": {},
     "output_type": "execute_result"
    }
   ],
   "source": [
    "\"She said \\\"I like Philip\\'s Python Notes\\\" to him.\""
   ]
  },
  {
   "cell_type": "markdown",
   "id": "a75682b1-3c7f-4e91-8873-d69ec6f1a78c",
   "metadata": {},
   "source": [
    "## The print function"
   ]
  },
  {
   "cell_type": "markdown",
   "id": "6d4dd1d2-d947-4494-94c2-7da080d6c53b",
   "metadata": {},
   "source": [
    "We can use the ```print``` function to print the output of a ```str```. Functions are called with parenthesis ```( )```. The parenthesis enclose the input argument to be printed to output of a cell."
   ]
  },
  {
   "cell_type": "code",
   "execution_count": 17,
   "id": "54fd1862-9b14-4a4e-9e46-5bc9a0592428",
   "metadata": {},
   "outputs": [
    {
     "name": "stdout",
     "output_type": "stream",
     "text": [
      "She said \"I like Philip's Python Notes\" to him.\n"
     ]
    }
   ],
   "source": [
    "print(\"She said \\\"I like Philip\\'s Python Notes\\\" to him.\")"
   ]
  },
  {
   "cell_type": "markdown",
   "id": "3ecd94df-9df3-4118-b637-d93981d80419",
   "metadata": {},
   "source": [
    "Historically computers originated from the typewritters. In a typewritter a new line involved two operations, a carriage return, moving the ink carriage back to the left hand side of the paper."
   ]
  },
  {
   "cell_type": "code",
   "execution_count": 18,
   "id": "3d54691c-6904-4fa5-8a3b-f67633fef47c",
   "metadata": {},
   "outputs": [
    {
     "name": "stdout",
     "output_type": "stream",
     "text": [
      "Hello World\n"
     ]
    }
   ],
   "source": [
    "print(\"      World\\rHello\")"
   ]
  },
  {
   "cell_type": "markdown",
   "id": "8b34c9e7-9f08-408b-b1a8-7ca5e3d24385",
   "metadata": {},
   "source": [
    "And a form feed which moves the paper form down by the length of a line. ```\\f``` doesn't seem to work correctly in the ```print``` function but conceptually the output of ```print(\"Hello World\\fHello World\")``` should essentially look like this."
   ]
  },
  {
   "cell_type": "code",
   "execution_count": 19,
   "id": "60038cdc-fe8e-4a49-9854-4ab00f2cb2b0",
   "metadata": {},
   "outputs": [
    {
     "name": "stdout",
     "output_type": "stream",
     "text": [
      "Hello World\n",
      "           Hello World\n"
     ]
    }
   ],
   "source": [
    "print(\"Hello World\\n           Hello World\")"
   ]
  },
  {
   "cell_type": "markdown",
   "id": "1c9c44e8-8298-42d1-aebe-5cb5402eb6ef",
   "metadata": {},
   "source": [
    "The new line is both a carriage return and a form feed."
   ]
  },
  {
   "cell_type": "code",
   "execution_count": 20,
   "id": "362ef775-bd06-4f26-a2d7-713b2582f1bb",
   "metadata": {},
   "outputs": [
    {
     "name": "stdout",
     "output_type": "stream",
     "text": [
      "Hello World\n",
      "Hello World\n"
     ]
    }
   ],
   "source": [
    "print(\"Hello World\\nHello World\")"
   ]
  },
  {
   "cell_type": "markdown",
   "id": "067d458f-c762-474a-a39b-62f71475d2b9",
   "metadata": {},
   "source": [
    "A tab is typically used to indent text four spaces to start a new paragraph and a new line is used to start text on a new line. The backspace is used to delete a character and go back one space."
   ]
  },
  {
   "cell_type": "code",
   "execution_count": 21,
   "id": "21fde0a5-8112-44d6-98d3-2a92afce19f1",
   "metadata": {},
   "outputs": [
    {
     "name": "stdout",
     "output_type": "stream",
     "text": [
      "\tHello World\n",
      "Hello World\n",
      "HellWorld\n"
     ]
    }
   ],
   "source": [
    "print(\"\\tHello World\\nHello World\\nHello\\bWorld\")"
   ]
  },
  {
   "cell_type": "markdown",
   "id": "b2c65990-a98f-420d-9c0b-5c17ba2660ca",
   "metadata": {},
   "source": [
    "The vertical tab does not work correctly with the ```print``` function."
   ]
  },
  {
   "cell_type": "code",
   "execution_count": 22,
   "id": "0e3633fe-988b-4187-94b4-81ac1617c2f8",
   "metadata": {},
   "outputs": [
    {
     "name": "stdout",
     "output_type": "stream",
     "text": [
      "\tHello World\u000b",
      "Hello World\n"
     ]
    }
   ],
   "source": [
    "print(\"\\tHello World\\vHello World\")"
   ]
  },
  {
   "cell_type": "markdown",
   "id": "b36dfdce-d162-4ee5-82b9-93621ee4d5fd",
   "metadata": {},
   "source": [
    "## The type function"
   ]
  },
  {
   "cell_type": "markdown",
   "id": "ad114db8-912c-476f-b376-e369b91e288b",
   "metadata": {},
   "source": [
    "We have seen the ```print``` function, which used parenthesis ```( )``` to enclose its input argument the ```object``` to be printed. The type function has a similar form and returns the data type of an ```object```."
   ]
  },
  {
   "cell_type": "code",
   "execution_count": 23,
   "id": "95f6f31c-1176-4d59-9619-eb7ea2b02999",
   "metadata": {},
   "outputs": [
    {
     "data": {
      "text/plain": [
       "int"
      ]
     },
     "execution_count": 23,
     "metadata": {},
     "output_type": "execute_result"
    }
   ],
   "source": [
    "type(1)"
   ]
  },
  {
   "cell_type": "code",
   "execution_count": 24,
   "id": "cb659c7d-8ef0-4fe7-98ec-cc5cff4a45dd",
   "metadata": {},
   "outputs": [
    {
     "data": {
      "text/plain": [
       "float"
      ]
     },
     "execution_count": 24,
     "metadata": {},
     "output_type": "execute_result"
    }
   ],
   "source": [
    "type(1.1)"
   ]
  },
  {
   "cell_type": "code",
   "execution_count": 25,
   "id": "b9635957-c687-406b-986a-0e1eec159154",
   "metadata": {},
   "outputs": [
    {
     "data": {
      "text/plain": [
       "bool"
      ]
     },
     "execution_count": 25,
     "metadata": {},
     "output_type": "execute_result"
    }
   ],
   "source": [
    "type(True)"
   ]
  },
  {
   "cell_type": "code",
   "execution_count": 26,
   "id": "936f7874-2898-4cff-965f-4a18a5387a85",
   "metadata": {},
   "outputs": [
    {
     "data": {
      "text/plain": [
       "str"
      ]
     },
     "execution_count": 26,
     "metadata": {},
     "output_type": "execute_result"
    }
   ],
   "source": [
    "type(\"hello\")"
   ]
  }
 ],
 "metadata": {
  "kernelspec": {
   "display_name": "Python 3",
   "language": "python",
   "name": "python3"
  },
  "language_info": {
   "codemirror_mode": {
    "name": "ipython",
    "version": 3
   },
   "file_extension": ".py",
   "mimetype": "text/x-python",
   "name": "python",
   "nbconvert_exporter": "python",
   "pygments_lexer": "ipython3",
   "version": "3.8.5"
  }
 },
 "nbformat": 4,
 "nbformat_minor": 5
}
